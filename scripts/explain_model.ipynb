{
 "cells": [
  {
   "cell_type": "code",
   "execution_count": 1,
   "metadata": {},
   "outputs": [],
   "source": [
    "import numpy as np\n",
    "import pandas as pd\n",
    "import shap\n",
    "import os\n",
    "from sklearn.model_selection import train_test_split\n",
    "from sklearn.ensemble import RandomForestClassifier\n",
    "from sklearn import metrics\n",
    "from joblib import load\n",
    "\n",
    "from bd_lc_mediterranean.utilities.confusion_matrix import compute_confusion_matrix"
   ]
  },
  {
   "cell_type": "markdown",
   "metadata": {},
   "source": [
    "### Data preprocessing"
   ]
  },
  {
   "cell_type": "code",
   "execution_count": 2,
   "metadata": {},
   "outputs": [],
   "source": [
    "data = pd.read_csv('dataset_postprocessed.csv')\n",
    "data.dropna()\n",
    "data = data[~data.isin([np.nan, np.inf, -np.inf]).any(1)]"
   ]
  },
  {
   "cell_type": "code",
   "execution_count": 3,
   "metadata": {},
   "outputs": [
    {
     "data": {
      "text/plain": [
       "Index(['slope', 'aspect', 'dem', 'spring_cri1', 'spring_evi2', 'spring_mndwi',\n",
       "       'spring_moisture', 'spring_ndre', 'spring_ndvi', 'spring_ndyi',\n",
       "       'spring_osavi', 'spring_ri', 'spring_AOT', 'spring_B01', 'spring_B02',\n",
       "       'spring_B03', 'spring_B04', 'spring_B05', 'spring_B06', 'spring_B07',\n",
       "       'spring_B08', 'spring_B09', 'spring_B11', 'spring_B12', 'spring_B8A',\n",
       "       'spring_WVP', 'autumn_cri1', 'autumn_evi2', 'autumn_mndwi',\n",
       "       'autumn_moisture', 'autumn_ndre', 'autumn_ndvi', 'autumn_ndyi',\n",
       "       'autumn_osavi', 'autumn_ri', 'autumn_AOT', 'autumn_B01', 'autumn_B02',\n",
       "       'autumn_B03', 'autumn_B04', 'autumn_B05', 'autumn_B06', 'autumn_B07',\n",
       "       'autumn_B08', 'autumn_B09', 'autumn_B11', 'autumn_B12', 'autumn_B8A',\n",
       "       'autumn_WVP', 'summer_cri1', 'summer_evi2', 'summer_mndwi',\n",
       "       'summer_moisture', 'summer_ndre', 'summer_ndvi', 'summer_ndyi',\n",
       "       'summer_osavi', 'summer_ri', 'summer_AOT', 'summer_B01', 'summer_B02',\n",
       "       'summer_B03', 'summer_B04', 'summer_B05', 'summer_B06', 'summer_B07',\n",
       "       'summer_B08', 'summer_B09', 'summer_B11', 'summer_B12', 'summer_B8A',\n",
       "       'summer_WVP'],\n",
       "      dtype='object')"
      ]
     },
     "execution_count": 3,
     "metadata": {},
     "output_type": "execute_result"
    }
   ],
   "source": [
    "y_train_data = data[\"class\"] \n",
    "x_train_data = data.drop([\"class\", \"latitude\", \"longitude\", \"spring_product_name\", \"autumn_product_name\", \"summer_product_name\"], axis=1)\n",
    "pc_columns = x_train_data.columns\n",
    "\n",
    "reduced_x_train_data = data[pc_columns]\n",
    "reduced_x_train_data.columns"
   ]
  },
  {
   "cell_type": "code",
   "execution_count": 4,
   "metadata": {},
   "outputs": [],
   "source": [
    "X_train, X_test, y_train, y_test = train_test_split(reduced_x_train_data, y_train_data, test_size=0.15, random_state=0,)\n",
    "labels=y_train_data.unique()"
   ]
  },
  {
   "cell_type": "code",
   "execution_count": 5,
   "metadata": {},
   "outputs": [],
   "source": [
    "model = load('model.joblib')\n",
    "y_true = model.predict(X_test)"
   ]
  },
  {
   "cell_type": "code",
   "execution_count": 6,
   "metadata": {},
   "outputs": [],
   "source": [
    "pred = pd.DataFrame(y_true).reset_index(drop=True, inplace=False)\n",
    "real = y_test.reset_index(drop=True, inplace=False)\n",
    "test = pd.DataFrame(X_test).reset_index(drop=True, inplace=False)\n",
    "train = pd.DataFrame(X_train).reset_index(drop=True, inplace=False)"
   ]
  },
  {
   "cell_type": "markdown",
   "metadata": {},
   "source": [
    "# Explainability with SHAP"
   ]
  },
  {
   "cell_type": "code",
   "execution_count": 7,
   "metadata": {},
   "outputs": [],
   "source": [
    "explainer = shap.TreeExplainer(model)"
   ]
  },
  {
   "cell_type": "code",
   "execution_count": 8,
   "metadata": {},
   "outputs": [
    {
     "data": {
      "text/html": [
       "<div>\n",
       "<style scoped>\n",
       "    .dataframe tbody tr th:only-of-type {\n",
       "        vertical-align: middle;\n",
       "    }\n",
       "\n",
       "    .dataframe tbody tr th {\n",
       "        vertical-align: top;\n",
       "    }\n",
       "\n",
       "    .dataframe thead th {\n",
       "        text-align: right;\n",
       "    }\n",
       "</style>\n",
       "<table border=\"1\" class=\"dataframe\">\n",
       "  <thead>\n",
       "    <tr style=\"text-align: right;\">\n",
       "      <th></th>\n",
       "      <th>slope</th>\n",
       "      <th>aspect</th>\n",
       "      <th>dem</th>\n",
       "      <th>spring_cri1</th>\n",
       "      <th>spring_evi2</th>\n",
       "      <th>spring_mndwi</th>\n",
       "      <th>spring_moisture</th>\n",
       "      <th>spring_ndre</th>\n",
       "      <th>spring_ndvi</th>\n",
       "      <th>spring_ndyi</th>\n",
       "      <th>...</th>\n",
       "      <th>summer_B04</th>\n",
       "      <th>summer_B05</th>\n",
       "      <th>summer_B06</th>\n",
       "      <th>summer_B07</th>\n",
       "      <th>summer_B08</th>\n",
       "      <th>summer_B09</th>\n",
       "      <th>summer_B11</th>\n",
       "      <th>summer_B12</th>\n",
       "      <th>summer_B8A</th>\n",
       "      <th>summer_WVP</th>\n",
       "    </tr>\n",
       "  </thead>\n",
       "  <tbody>\n",
       "    <tr>\n",
       "      <th>78881</th>\n",
       "      <td>-0.754471</td>\n",
       "      <td>0.982909</td>\n",
       "      <td>-0.701</td>\n",
       "      <td>1.605321</td>\n",
       "      <td>1.262920</td>\n",
       "      <td>-0.550805</td>\n",
       "      <td>-0.004616</td>\n",
       "      <td>0.342479</td>\n",
       "      <td>0.526382</td>\n",
       "      <td>0.232340</td>\n",
       "      <td>...</td>\n",
       "      <td>-0.584857</td>\n",
       "      <td>-0.476000</td>\n",
       "      <td>-0.393857</td>\n",
       "      <td>-0.337857</td>\n",
       "      <td>-0.306286</td>\n",
       "      <td>-0.192000</td>\n",
       "      <td>-0.061714</td>\n",
       "      <td>-0.337857</td>\n",
       "      <td>-0.265000</td>\n",
       "      <td>-0.522429</td>\n",
       "    </tr>\n",
       "    <tr>\n",
       "      <th>112941</th>\n",
       "      <td>-0.633810</td>\n",
       "      <td>-0.562908</td>\n",
       "      <td>0.004</td>\n",
       "      <td>1.582229</td>\n",
       "      <td>1.025973</td>\n",
       "      <td>-0.460340</td>\n",
       "      <td>-0.007273</td>\n",
       "      <td>0.230635</td>\n",
       "      <td>0.427601</td>\n",
       "      <td>0.225475</td>\n",
       "      <td>...</td>\n",
       "      <td>-0.439429</td>\n",
       "      <td>-0.254571</td>\n",
       "      <td>-0.164571</td>\n",
       "      <td>-0.106000</td>\n",
       "      <td>-0.122286</td>\n",
       "      <td>-0.036857</td>\n",
       "      <td>0.136286</td>\n",
       "      <td>-0.159429</td>\n",
       "      <td>-0.073714</td>\n",
       "      <td>-0.632000</td>\n",
       "    </tr>\n",
       "    <tr>\n",
       "      <th>23</th>\n",
       "      <td>-0.762884</td>\n",
       "      <td>-0.500000</td>\n",
       "      <td>-0.285</td>\n",
       "      <td>1.268103</td>\n",
       "      <td>0.712715</td>\n",
       "      <td>-0.296924</td>\n",
       "      <td>0.040058</td>\n",
       "      <td>0.232441</td>\n",
       "      <td>0.297050</td>\n",
       "      <td>0.118206</td>\n",
       "      <td>...</td>\n",
       "      <td>-0.616571</td>\n",
       "      <td>-0.586857</td>\n",
       "      <td>-0.367714</td>\n",
       "      <td>-0.250286</td>\n",
       "      <td>-0.236000</td>\n",
       "      <td>-0.245714</td>\n",
       "      <td>-0.358000</td>\n",
       "      <td>-0.523714</td>\n",
       "      <td>-0.245714</td>\n",
       "      <td>-0.626857</td>\n",
       "    </tr>\n",
       "    <tr>\n",
       "      <th>66908</th>\n",
       "      <td>-0.836641</td>\n",
       "      <td>-0.300716</td>\n",
       "      <td>-0.378</td>\n",
       "      <td>1.260347</td>\n",
       "      <td>0.150304</td>\n",
       "      <td>-0.067387</td>\n",
       "      <td>0.031566</td>\n",
       "      <td>0.112322</td>\n",
       "      <td>0.062641</td>\n",
       "      <td>0.115180</td>\n",
       "      <td>...</td>\n",
       "      <td>-0.485143</td>\n",
       "      <td>-0.095143</td>\n",
       "      <td>-0.177143</td>\n",
       "      <td>-0.131143</td>\n",
       "      <td>-0.449143</td>\n",
       "      <td>-0.065857</td>\n",
       "      <td>-0.053571</td>\n",
       "      <td>-0.256000</td>\n",
       "      <td>-0.031000</td>\n",
       "      <td>-0.467857</td>\n",
       "    </tr>\n",
       "    <tr>\n",
       "      <th>102798</th>\n",
       "      <td>-0.887708</td>\n",
       "      <td>-0.721453</td>\n",
       "      <td>-0.801</td>\n",
       "      <td>1.274534</td>\n",
       "      <td>0.530860</td>\n",
       "      <td>-0.224842</td>\n",
       "      <td>0.072165</td>\n",
       "      <td>0.209964</td>\n",
       "      <td>0.221224</td>\n",
       "      <td>0.120699</td>\n",
       "      <td>...</td>\n",
       "      <td>-0.238857</td>\n",
       "      <td>-0.128286</td>\n",
       "      <td>0.073857</td>\n",
       "      <td>0.118571</td>\n",
       "      <td>0.171714</td>\n",
       "      <td>-0.085429</td>\n",
       "      <td>0.037714</td>\n",
       "      <td>-0.054571</td>\n",
       "      <td>0.083571</td>\n",
       "      <td>-0.293714</td>\n",
       "    </tr>\n",
       "    <tr>\n",
       "      <th>...</th>\n",
       "      <td>...</td>\n",
       "      <td>...</td>\n",
       "      <td>...</td>\n",
       "      <td>...</td>\n",
       "      <td>...</td>\n",
       "      <td>...</td>\n",
       "      <td>...</td>\n",
       "      <td>...</td>\n",
       "      <td>...</td>\n",
       "      <td>...</td>\n",
       "      <td>...</td>\n",
       "      <td>...</td>\n",
       "      <td>...</td>\n",
       "      <td>...</td>\n",
       "      <td>...</td>\n",
       "      <td>...</td>\n",
       "      <td>...</td>\n",
       "      <td>...</td>\n",
       "      <td>...</td>\n",
       "      <td>...</td>\n",
       "      <td>...</td>\n",
       "    </tr>\n",
       "    <tr>\n",
       "      <th>105916</th>\n",
       "      <td>-0.965526</td>\n",
       "      <td>0.874117</td>\n",
       "      <td>-0.079</td>\n",
       "      <td>1.295508</td>\n",
       "      <td>0.181102</td>\n",
       "      <td>-0.260071</td>\n",
       "      <td>-0.090520</td>\n",
       "      <td>0.065421</td>\n",
       "      <td>0.075484</td>\n",
       "      <td>0.128733</td>\n",
       "      <td>...</td>\n",
       "      <td>-0.468714</td>\n",
       "      <td>-0.533571</td>\n",
       "      <td>-0.491571</td>\n",
       "      <td>-0.514286</td>\n",
       "      <td>-0.434000</td>\n",
       "      <td>-0.368714</td>\n",
       "      <td>-0.313429</td>\n",
       "      <td>-0.319429</td>\n",
       "      <td>-0.516429</td>\n",
       "      <td>-0.702714</td>\n",
       "    </tr>\n",
       "    <tr>\n",
       "      <th>65610</th>\n",
       "      <td>-1.000000</td>\n",
       "      <td>-1.000000</td>\n",
       "      <td>-0.590</td>\n",
       "      <td>1.119266</td>\n",
       "      <td>-0.536471</td>\n",
       "      <td>0.492901</td>\n",
       "      <td>-0.237624</td>\n",
       "      <td>-0.333333</td>\n",
       "      <td>-0.225296</td>\n",
       "      <td>0.056277</td>\n",
       "      <td>...</td>\n",
       "      <td>-0.883000</td>\n",
       "      <td>-0.880286</td>\n",
       "      <td>-0.885000</td>\n",
       "      <td>-0.882571</td>\n",
       "      <td>-0.897714</td>\n",
       "      <td>-0.891000</td>\n",
       "      <td>-0.880571</td>\n",
       "      <td>-0.882714</td>\n",
       "      <td>-0.883000</td>\n",
       "      <td>-0.597571</td>\n",
       "    </tr>\n",
       "    <tr>\n",
       "      <th>22136</th>\n",
       "      <td>-0.733042</td>\n",
       "      <td>0.589020</td>\n",
       "      <td>-0.625</td>\n",
       "      <td>2.158371</td>\n",
       "      <td>1.863126</td>\n",
       "      <td>-0.573832</td>\n",
       "      <td>0.215101</td>\n",
       "      <td>0.403298</td>\n",
       "      <td>0.776567</td>\n",
       "      <td>0.366762</td>\n",
       "      <td>...</td>\n",
       "      <td>-0.861143</td>\n",
       "      <td>-0.652714</td>\n",
       "      <td>-0.237000</td>\n",
       "      <td>-0.134857</td>\n",
       "      <td>-0.106857</td>\n",
       "      <td>-0.058429</td>\n",
       "      <td>-0.397143</td>\n",
       "      <td>-0.655000</td>\n",
       "      <td>-0.064714</td>\n",
       "      <td>-0.530429</td>\n",
       "    </tr>\n",
       "    <tr>\n",
       "      <th>34959</th>\n",
       "      <td>-0.880783</td>\n",
       "      <td>-0.500000</td>\n",
       "      <td>-0.847</td>\n",
       "      <td>1.492941</td>\n",
       "      <td>1.216518</td>\n",
       "      <td>-0.544039</td>\n",
       "      <td>-0.043245</td>\n",
       "      <td>0.193165</td>\n",
       "      <td>0.507057</td>\n",
       "      <td>0.197735</td>\n",
       "      <td>...</td>\n",
       "      <td>-0.632286</td>\n",
       "      <td>-0.406571</td>\n",
       "      <td>-0.264857</td>\n",
       "      <td>-0.187143</td>\n",
       "      <td>-0.221143</td>\n",
       "      <td>-0.060429</td>\n",
       "      <td>0.011714</td>\n",
       "      <td>-0.203143</td>\n",
       "      <td>-0.102571</td>\n",
       "      <td>-0.439571</td>\n",
       "    </tr>\n",
       "    <tr>\n",
       "      <th>17217</th>\n",
       "      <td>-0.846141</td>\n",
       "      <td>0.055029</td>\n",
       "      <td>-0.483</td>\n",
       "      <td>1.996337</td>\n",
       "      <td>2.047299</td>\n",
       "      <td>-0.536680</td>\n",
       "      <td>0.398621</td>\n",
       "      <td>0.680121</td>\n",
       "      <td>0.853223</td>\n",
       "      <td>0.332518</td>\n",
       "      <td>...</td>\n",
       "      <td>-0.244000</td>\n",
       "      <td>-0.289429</td>\n",
       "      <td>-0.176571</td>\n",
       "      <td>-0.097429</td>\n",
       "      <td>0.052000</td>\n",
       "      <td>0.044000</td>\n",
       "      <td>0.285714</td>\n",
       "      <td>-0.044571</td>\n",
       "      <td>0.004571</td>\n",
       "      <td>-0.672000</td>\n",
       "    </tr>\n",
       "  </tbody>\n",
       "</table>\n",
       "<p>18165 rows × 72 columns</p>\n",
       "</div>"
      ],
      "text/plain": [
       "           slope    aspect    dem  spring_cri1  spring_evi2  spring_mndwi  \\\n",
       "78881  -0.754471  0.982909 -0.701     1.605321     1.262920     -0.550805   \n",
       "112941 -0.633810 -0.562908  0.004     1.582229     1.025973     -0.460340   \n",
       "23     -0.762884 -0.500000 -0.285     1.268103     0.712715     -0.296924   \n",
       "66908  -0.836641 -0.300716 -0.378     1.260347     0.150304     -0.067387   \n",
       "102798 -0.887708 -0.721453 -0.801     1.274534     0.530860     -0.224842   \n",
       "...          ...       ...    ...          ...          ...           ...   \n",
       "105916 -0.965526  0.874117 -0.079     1.295508     0.181102     -0.260071   \n",
       "65610  -1.000000 -1.000000 -0.590     1.119266    -0.536471      0.492901   \n",
       "22136  -0.733042  0.589020 -0.625     2.158371     1.863126     -0.573832   \n",
       "34959  -0.880783 -0.500000 -0.847     1.492941     1.216518     -0.544039   \n",
       "17217  -0.846141  0.055029 -0.483     1.996337     2.047299     -0.536680   \n",
       "\n",
       "        spring_moisture  spring_ndre  spring_ndvi  spring_ndyi  ...  \\\n",
       "78881         -0.004616     0.342479     0.526382     0.232340  ...   \n",
       "112941        -0.007273     0.230635     0.427601     0.225475  ...   \n",
       "23             0.040058     0.232441     0.297050     0.118206  ...   \n",
       "66908          0.031566     0.112322     0.062641     0.115180  ...   \n",
       "102798         0.072165     0.209964     0.221224     0.120699  ...   \n",
       "...                 ...          ...          ...          ...  ...   \n",
       "105916        -0.090520     0.065421     0.075484     0.128733  ...   \n",
       "65610         -0.237624    -0.333333    -0.225296     0.056277  ...   \n",
       "22136          0.215101     0.403298     0.776567     0.366762  ...   \n",
       "34959         -0.043245     0.193165     0.507057     0.197735  ...   \n",
       "17217          0.398621     0.680121     0.853223     0.332518  ...   \n",
       "\n",
       "        summer_B04  summer_B05  summer_B06  summer_B07  summer_B08  \\\n",
       "78881    -0.584857   -0.476000   -0.393857   -0.337857   -0.306286   \n",
       "112941   -0.439429   -0.254571   -0.164571   -0.106000   -0.122286   \n",
       "23       -0.616571   -0.586857   -0.367714   -0.250286   -0.236000   \n",
       "66908    -0.485143   -0.095143   -0.177143   -0.131143   -0.449143   \n",
       "102798   -0.238857   -0.128286    0.073857    0.118571    0.171714   \n",
       "...            ...         ...         ...         ...         ...   \n",
       "105916   -0.468714   -0.533571   -0.491571   -0.514286   -0.434000   \n",
       "65610    -0.883000   -0.880286   -0.885000   -0.882571   -0.897714   \n",
       "22136    -0.861143   -0.652714   -0.237000   -0.134857   -0.106857   \n",
       "34959    -0.632286   -0.406571   -0.264857   -0.187143   -0.221143   \n",
       "17217    -0.244000   -0.289429   -0.176571   -0.097429    0.052000   \n",
       "\n",
       "        summer_B09  summer_B11  summer_B12  summer_B8A  summer_WVP  \n",
       "78881    -0.192000   -0.061714   -0.337857   -0.265000   -0.522429  \n",
       "112941   -0.036857    0.136286   -0.159429   -0.073714   -0.632000  \n",
       "23       -0.245714   -0.358000   -0.523714   -0.245714   -0.626857  \n",
       "66908    -0.065857   -0.053571   -0.256000   -0.031000   -0.467857  \n",
       "102798   -0.085429    0.037714   -0.054571    0.083571   -0.293714  \n",
       "...            ...         ...         ...         ...         ...  \n",
       "105916   -0.368714   -0.313429   -0.319429   -0.516429   -0.702714  \n",
       "65610    -0.891000   -0.880571   -0.882714   -0.883000   -0.597571  \n",
       "22136    -0.058429   -0.397143   -0.655000   -0.064714   -0.530429  \n",
       "34959    -0.060429    0.011714   -0.203143   -0.102571   -0.439571  \n",
       "17217     0.044000    0.285714   -0.044571    0.004571   -0.672000  \n",
       "\n",
       "[18165 rows x 72 columns]"
      ]
     },
     "execution_count": 8,
     "metadata": {},
     "output_type": "execute_result"
    }
   ],
   "source": [
    "X_test"
   ]
  },
  {
   "cell_type": "code",
   "execution_count": null,
   "metadata": {},
   "outputs": [],
   "source": [
    "choosen_instance = X_test\n",
    "shap_values = explainer.shap_values(choosen_instance)\n",
    "shap.initjs()"
   ]
  },
  {
   "cell_type": "code",
   "execution_count": null,
   "metadata": {},
   "outputs": [],
   "source": [
    "shap.summary_plot(shap_values, X_train)"
   ]
  },
  {
   "cell_type": "code",
   "execution_count": null,
   "metadata": {},
   "outputs": [],
   "source": [
    "labels"
   ]
  },
  {
   "cell_type": "markdown",
   "metadata": {},
   "source": [
    "### Split by class"
   ]
  },
  {
   "cell_type": "code",
   "execution_count": null,
   "metadata": {},
   "outputs": [],
   "source": [
    "def data_train(data):\n",
    "    y_train_data = data[\"class\"] \n",
    "    x_train_data = data.drop([\"class\"], axis=1)\n",
    "    pc_columns = sorted([\"slope\",\"aspect\",\"dem\",\"spring_evi2\",\"spring_mndwi\",\"spring_moisture\",\"spring_ndbg\", \"spring_ndre\",\"spring_ndvi\",\"spring_osavi\",\"spring_AOT\",\"spring_B01\",\"spring_B02\",\"spring_B03\",\"spring_B04\",\"spring_B05\",\"spring_B06\",\"spring_B07\",\"spring_B08\",\"spring_B09\",\"spring_B11\",\"spring_B12\",\"spring_B8A\",\"summer_evi2\",\"summer_mndwi\",\"summer_moisture\",\"summer_ndbg\", \"summer_ndre\",\"summer_ndvi\",\"summer_osavi\",\"summer_AOT\",\"summer_B01\",\"summer_B02\",\"summer_B03\",\"summer_B04\",\"summer_B05\",\"summer_B06\",\"summer_B07\",\"summer_B08\",\"summer_B09\",\"summer_B11\",\"summer_B12\",\"summer_B8A\",\"autumn_evi2\",\"autumn_mndwi\",\"autumn_moisture\", \"autumn_ndbg\", \"autumn_ndre\",\"autumn_ndvi\",\"autumn_osavi\",\"autumn_AOT\",\"autumn_B01\",\"autumn_B02\",\"autumn_B03\",\"autumn_B04\",\"autumn_B05\",\"autumn_B06\",\"autumn_B07\",\"autumn_B08\",\"autumn_B09\",\"autumn_B11\",\"autumn_B12\",\"autumn_B8A\"]) \n",
    "\n",
    "    reduced_x_train_data = data[pc_columns]\n",
    "    #reduced_x_train_data.to_csv(f'{label}.csv')\n",
    "\n",
    "    X_train, X_test, y_train, y_test = train_test_split(reduced_x_train_data, y_train_data, test_size=0.50, random_state=0,)\n",
    "\n",
    "    y_true = model.predict(X_test)\n",
    "\n",
    "    X_train = pd.DataFrame(X_train).reset_index(drop=True, inplace=False)\n",
    "    X_test = pd.DataFrame(X_test).reset_index(drop=True, inplace=False)\n",
    "    y_test = pd.DataFrame(y_test).reset_index(drop=True, inplace=False)\n",
    "    y_train = pd.DataFrame(y_train).reset_index(drop=True, inplace=False)\n",
    "    y_true = pd.DataFrame(y_true).reset_index(drop=True, inplace=False)\n",
    "    \n",
    "\n",
    "    return X_train, X_test, y_train, y_test, y_true\n"
   ]
  },
  {
   "cell_type": "code",
   "execution_count": null,
   "metadata": {},
   "outputs": [],
   "source": [
    "labels = ['bosque']"
   ]
  },
  {
   "cell_type": "code",
   "execution_count": null,
   "metadata": {},
   "outputs": [],
   "source": [
    "for label in labels:\n",
    "    b_aux = data['class'] == label\n",
    "    b = data[b_aux]\n",
    "    X_train, X_test, y_train, y_test, y_true = data_train(b)\n",
    "    explainer = shap.TreeExplainer(model)\n",
    "    choosen_instance = X_test.loc[0:10]\n",
    "    shap_values = explainer.shap_values(choosen_instance)\n",
    "    shap.initjs()\n",
    "    shap.force_plot(explainer.expected_value[1], shap_values[1], choosen_instance)\n"
   ]
  },
  {
   "cell_type": "code",
   "execution_count": null,
   "metadata": {},
   "outputs": [],
   "source": [
    "explainer = shap.TreeExplainer(model)\n",
    "choosen_instance = X_test.loc[0:3]\n",
    "shap_values = explainer.shap_values(choosen_instance)\n",
    "shap.initjs()\n",
    "shap.force_plot(explainer.expected_value[1], shap_values[1], choosen_instance)"
   ]
  },
  {
   "cell_type": "code",
   "execution_count": null,
   "metadata": {},
   "outputs": [],
   "source": [
    "choosen_instance = X_test.loc[0:3]\n",
    "shap_values = explainer.shap_values(X_test)"
   ]
  },
  {
   "cell_type": "code",
   "execution_count": null,
   "metadata": {},
   "outputs": [],
   "source": [
    "expected_value = explainer.expected_value\n",
    "shap.decision_plot(expected_value, shap_values[0:10],feature_names=list(X_test.columns))"
   ]
  },
  {
   "cell_type": "code",
   "execution_count": null,
   "metadata": {},
   "outputs": [],
   "source": [
    "shap.plots.waterfall(shap_values[[0]])"
   ]
  },
  {
   "cell_type": "code",
   "execution_count": null,
   "metadata": {},
   "outputs": [],
   "source": [
    "shap.plots.beeswarm(shap_values)"
   ]
  },
  {
   "cell_type": "code",
   "execution_count": null,
   "metadata": {},
   "outputs": [],
   "source": [
    "for label in labels:\n",
    "    data = pd.read_csv(f'{label}.csv')\n",
    "    X_train, X_test, y_train, y_test = train_test_split(reduced_x_train_data, y_train_data, test_size=0.15, random_state=0,)\n",
    "    explainer = shap.TreeExplainer(model)\n",
    "    choosen_instance = X_test.loc[0:10]\n",
    "    shap_values = explainer.shap_values(choosen_instance)\n",
    "    shap.initjs()\n",
    "    shap.force_plot(explainer.expected_value[1], shap_values[1], choosen_instance)"
   ]
  },
  {
   "cell_type": "code",
   "execution_count": null,
   "metadata": {},
   "outputs": [],
   "source": [
    "y_true = model.predict(X_test)"
   ]
  },
  {
   "cell_type": "code",
   "execution_count": null,
   "metadata": {},
   "outputs": [],
   "source": [
    "#shap.summary_plot(shap_values[1], train)"
   ]
  },
  {
   "cell_type": "code",
   "execution_count": null,
   "metadata": {},
   "outputs": [],
   "source": [
    "shap.summary_plot(shap_values, train)"
   ]
  },
  {
   "cell_type": "code",
   "execution_count": null,
   "metadata": {},
   "outputs": [],
   "source": [
    "compute_confusion_matrix(y_true, y_test, labels, \"/tmp/matrix.png\")"
   ]
  },
  {
   "cell_type": "code",
   "execution_count": null,
   "metadata": {},
   "outputs": [],
   "source": [
    "t = model.predict(test)"
   ]
  },
  {
   "cell_type": "code",
   "execution_count": null,
   "metadata": {},
   "outputs": [],
   "source": [
    "tests"
   ]
  },
  {
   "cell_type": "code",
   "execution_count": null,
   "metadata": {},
   "outputs": [],
   "source": [
    "positions = np.flatnonzero(classes['bosque'])\n",
    "filtered_df = test.iloc[positions]"
   ]
  },
  {
   "cell_type": "code",
   "execution_count": null,
   "metadata": {},
   "outputs": [],
   "source": [
    "filtered_df"
   ]
  },
  {
   "cell_type": "code",
   "execution_count": null,
   "metadata": {},
   "outputs": [],
   "source": [
    "type(test)"
   ]
  },
  {
   "cell_type": "code",
   "execution_count": null,
   "metadata": {},
   "outputs": [],
   "source": [
    "choosen_instance = X_test[0:10]\n",
    "shap_values = explainer.shap_values(choosen_instance)\n",
    "shap.initjs()\n",
    "shap.force_plot(explainer.expected_value[1], shap_values[1], choosen_instance, matplotlib=True)"
   ]
  },
  {
   "cell_type": "code",
   "execution_count": null,
   "metadata": {},
   "outputs": [],
   "source": [
    "for label in labels:\n",
    "    choosen_instance = classes[label]\n",
    "    shap_values = explainer.shap_values(choosen_instance)\n",
    "    shap.initjs()\n",
    "    shap.force_plot(explainer.expected_value[1], shap_values[1], choosen_instance)"
   ]
  },
  {
   "cell_type": "code",
   "execution_count": null,
   "metadata": {},
   "outputs": [],
   "source": [
    "choosen_instance = tests\n",
    "shap_values = explainer.shap_values(choosen_instance)\n",
    "shap.initjs()\n",
    "shap.force_plot(explainer.expected_value[1], shap_values[1], choosen_instance)"
   ]
  },
  {
   "cell_type": "code",
   "execution_count": null,
   "metadata": {},
   "outputs": [],
   "source": [
    "tests = real[0:10]"
   ]
  },
  {
   "cell_type": "code",
   "execution_count": null,
   "metadata": {},
   "outputs": [],
   "source": [
    "labels"
   ]
  },
  {
   "cell_type": "code",
   "execution_count": null,
   "metadata": {},
   "outputs": [],
   "source": [
    "shap.summary_plot(shap_values, train)"
   ]
  },
  {
   "cell_type": "code",
   "execution_count": null,
   "metadata": {},
   "outputs": [],
   "source": [
    "shap.plots.waterfall(shap_values)"
   ]
  },
  {
   "cell_type": "code",
   "execution_count": null,
   "metadata": {},
   "outputs": [],
   "source": [
    "shap.plots.beeswarm(shap_values)"
   ]
  }
 ],
 "metadata": {
  "interpreter": {
   "hash": "bb7713634f804ba7c1224850bedc081036ea512ce790a889d9077e0d0088311b"
  },
  "kernelspec": {
   "display_name": "Python 3 (ipykernel)",
   "language": "python",
   "name": "python3"
  },
  "language_info": {
   "codemirror_mode": {
    "name": "ipython",
    "version": 3
   },
   "file_extension": ".py",
   "mimetype": "text/x-python",
   "name": "python",
   "nbconvert_exporter": "python",
   "pygments_lexer": "ipython3",
   "version": "3.10.6"
  }
 },
 "nbformat": 4,
 "nbformat_minor": 2
}
