{
 "cells": [
  {
   "cell_type": "code",
   "execution_count": null,
   "metadata": {},
   "outputs": [],
   "source": [
    "import numpy as np\n",
    "import pandas as pd\n",
    "import shap\n",
    "import os\n",
    "from sklearn.model_selection import train_test_split\n",
    "from sklearn.ensemble import RandomForestClassifier\n",
    "from sklearn import metrics\n",
    "from joblib import load\n",
    "\n",
    "from bd_lc_mediterranean.utilities.confusion_matrix import compute_confusion_matrix"
   ]
  },
  {
   "cell_type": "markdown",
   "metadata": {},
   "source": [
    "### Data preprocessing"
   ]
  },
  {
   "cell_type": "code",
   "execution_count": null,
   "metadata": {},
   "outputs": [],
   "source": [
    "data = pd.read_csv('dataset_postprocessed.csv')\n",
    "data.dropna()\n",
    "data = data[~data.isin([np.nan, np.inf, -np.inf]).any(1)]"
   ]
  },
  {
   "cell_type": "code",
   "execution_count": null,
   "metadata": {},
   "outputs": [],
   "source": [
    "y_train_data = data[\"class\"] \n",
    "x_train_data = data.drop([\"class\", \"latitude\", \"longitude\", \"spring_product_name\", \"autumn_product_name\", \"summer_product_name\"], axis=1)\n",
    "pc_columns = x_train_data.columns\n",
    "\n",
    "reduced_x_train_data = data[pc_columns]\n",
    "reduced_x_train_data.columns"
   ]
  },
  {
   "cell_type": "code",
   "execution_count": null,
   "metadata": {},
   "outputs": [],
   "source": [
    "X_train, X_test, y_train, y_test = train_test_split(reduced_x_train_data, y_train_data, test_size=0.15, random_state=0,)\n",
    "labels=y_train_data.unique()"
   ]
  },
  {
   "cell_type": "code",
   "execution_count": null,
   "metadata": {},
   "outputs": [],
   "source": [
    "model = load('model.joblib')\n",
    "y_true = model.predict(X_test)"
   ]
  },
  {
   "cell_type": "code",
   "execution_count": null,
   "metadata": {},
   "outputs": [],
   "source": [
    "pred = pd.DataFrame(y_true).reset_index(drop=True, inplace=False)\n",
    "real = y_test.reset_index(drop=True, inplace=False)\n",
    "test = pd.DataFrame(X_test).reset_index(drop=True, inplace=False)\n",
    "train = pd.DataFrame(X_train).reset_index(drop=True, inplace=False)"
   ]
  },
  {
   "cell_type": "markdown",
   "metadata": {},
   "source": [
    "# Explainability with SHAP"
   ]
  },
  {
   "cell_type": "code",
   "execution_count": null,
   "metadata": {},
   "outputs": [],
   "source": [
    "explainer = shap.TreeExplainer(model)"
   ]
  },
  {
   "cell_type": "code",
   "execution_count": null,
   "metadata": {},
   "outputs": [],
   "source": [
    "X_test"
   ]
  },
  {
   "cell_type": "code",
   "execution_count": null,
   "metadata": {},
   "outputs": [],
   "source": [
    "choosen_instance = X_test\n",
    "shap_values = explainer.shap_values(choosen_instance)\n",
    "shap.initjs()"
   ]
  },
  {
   "cell_type": "code",
   "execution_count": null,
   "metadata": {},
   "outputs": [],
   "source": [
    "shap.summary_plot(shap_values, X_train)"
   ]
  },
  {
   "cell_type": "code",
   "execution_count": null,
   "metadata": {},
   "outputs": [],
   "source": [
    "labels"
   ]
  },
  {
   "cell_type": "markdown",
   "metadata": {},
   "source": [
    "### Split by class"
   ]
  },
  {
   "cell_type": "code",
   "execution_count": null,
   "metadata": {},
   "outputs": [],
   "source": [
    "def data_train(data, pc_columns):\n",
    "    y_train_data = data[\"class\"] \n",
    "    x_train_data = data.drop([\"class\", \"latitude\", \"longitude\", \"spring_product_name\", \"autumn_product_name\", \"summer_product_name\"], axis=1)\n",
    "\n",
    "    reduced_x_train_data = data[pc_columns]\n",
    "    #reduced_x_train_data.to_csv(f'{label}.csv')\n",
    "\n",
    "    X_train, X_test, y_train, y_test = train_test_split(reduced_x_train_data, y_train_data, test_size=0.50, random_state=0,)\n",
    "\n",
    "    y_true = model.predict(X_test)\n",
    "\n",
    "    X_train = pd.DataFrame(X_train).reset_index(drop=True, inplace=False)\n",
    "    X_test = pd.DataFrame(X_test).reset_index(drop=True, inplace=False)\n",
    "    y_test = pd.DataFrame(y_test).reset_index(drop=True, inplace=False)\n",
    "    y_train = pd.DataFrame(y_train).reset_index(drop=True, inplace=False)\n",
    "    y_true = pd.DataFrame(y_true).reset_index(drop=True, inplace=False)\n",
    "    \n",
    "\n",
    "    return X_train, X_test, y_train, y_test, y_true\n"
   ]
  },
  {
   "cell_type": "code",
   "execution_count": null,
   "metadata": {},
   "outputs": [],
   "source": [
    "labels = ['closedForest']"
   ]
  },
  {
   "cell_type": "code",
   "execution_count": null,
   "metadata": {},
   "outputs": [],
   "source": [
    "for label in labels:\n",
    "    b_aux = data['class'] == label\n",
    "    b = data[b_aux]\n",
    "    X_train, X_test, y_train, y_test, y_true = data_train(b, pc_columns)\n",
    "    explainer = shap.TreeExplainer(model)\n",
    "    choosen_instance = X_test.loc[0:10]\n",
    "    shap_values = explainer.shap_values(choosen_instance)\n",
    "    shap.initjs()\n",
    "    shap.force_plot(explainer.expected_value[1], shap_values[1], choosen_instance)\n"
   ]
  },
  {
   "cell_type": "code",
   "execution_count": null,
   "metadata": {},
   "outputs": [],
   "source": [
    "explainer = shap.TreeExplainer(model)\n",
    "choosen_instance = X_test.loc[0:3]\n",
    "shap_values = explainer.shap_values(choosen_instance)\n",
    "shap.initjs()\n",
    "shap.force_plot(explainer.expected_value[1], shap_values[1], choosen_instance)"
   ]
  }
 ],
 "metadata": {
  "kernelspec": {
   "display_name": "Python 3.10.6 64-bit",
   "language": "python",
   "name": "python3"
  },
  "language_info": {
   "codemirror_mode": {
    "name": "ipython",
    "version": 3
   },
   "file_extension": ".py",
   "mimetype": "text/x-python",
   "name": "python",
   "nbconvert_exporter": "python",
   "pygments_lexer": "ipython3",
   "version": "3.10.6"
  },
  "vscode": {
   "interpreter": {
    "hash": "e7370f93d1d0cde622a1f8e1c04877d8463912d04d973331ad4851f04de6915a"
   }
  }
 },
 "nbformat": 4,
 "nbformat_minor": 2
}
