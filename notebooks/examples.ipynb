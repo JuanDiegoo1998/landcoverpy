{
 "cells": [
  {
   "cell_type": "markdown",
   "metadata": {},
   "source": [
    "# Land cover of Spain example (local mode)\n",
    "\n",
    "### Generate training dataset using validated data located at `DB_DIR` environment variable"
   ]
  },
  {
   "cell_type": "code",
   "execution_count": 1,
   "metadata": {},
   "outputs": [
    {
     "ename": "ModuleNotFoundError",
     "evalue": "No module named 'landcoverpy'",
     "output_type": "error",
     "traceback": [
      "\u001b[0;31m---------------------------------------------------------------------------\u001b[0m",
      "\u001b[0;31mModuleNotFoundError\u001b[0m                       Traceback (most recent call last)",
      "Cell \u001b[0;32mIn [1], line 1\u001b[0m\n\u001b[0;32m----> 1\u001b[0m \u001b[39mfrom\u001b[39;00m \u001b[39mlandcoverpy\u001b[39;00m\u001b[39m.\u001b[39;00m\u001b[39mexecution_mode\u001b[39;00m \u001b[39mimport\u001b[39;00m ExecutionMode\n\u001b[1;32m      2\u001b[0m \u001b[39mfrom\u001b[39;00m \u001b[39mlandcoverpy\u001b[39;00m\u001b[39m.\u001b[39;00m\u001b[39mworkflow\u001b[39;00m \u001b[39mimport\u001b[39;00m workflow\n\u001b[1;32m      3\u001b[0m workflow(execution_mode\u001b[39m=\u001b[39mExecutionMode\u001b[39m.\u001b[39mTRAINING)\n",
      "\u001b[0;31mModuleNotFoundError\u001b[0m: No module named 'landcoverpy'"
     ]
    }
   ],
   "source": [
    "from landcoverpy.execution_mode import ExecutionMode\n",
    "from landcoverpy.workflow import workflow\n",
    "workflow(execution_mode=ExecutionMode.TRAINING)"
   ]
  },
  {
   "cell_type": "markdown",
   "metadata": {},
   "source": [
    "### Postprocess generated dataset, called `dataset.csv` (which has been generated in MinIO)"
   ]
  },
  {
   "cell_type": "code",
   "execution_count": null,
   "metadata": {},
   "outputs": [],
   "source": [
    "from landcoverpy.data_postprocessing import postprocess_dataset\n",
    "\n",
    "input_dataset = \"dataset.csv\"\n",
    "land_cover_dataset = \"dataset_postprocessed.csv\"\n",
    "\n",
    "postprocess_dataset(input_dataset, land_cover_dataset)"
   ]
  },
  {
   "cell_type": "markdown",
   "metadata": {},
   "source": [
    "### Train model using postprocessed dataset"
   ]
  },
  {
   "cell_type": "code",
   "execution_count": null,
   "metadata": {},
   "outputs": [],
   "source": [
    "from landcoverpy.model_training import train_model_land_cover\n",
    "\n",
    "train_model_land_cover(land_cover_dataset, n_jobs = 1)"
   ]
  },
  {
   "cell_type": "markdown",
   "metadata": {},
   "source": [
    "### Get the tiles in Spain and classify them using the trained model"
   ]
  },
  {
   "cell_type": "code",
   "execution_count": null,
   "metadata": {},
   "outputs": [],
   "source": [
    "from landcoverpy.utilities.aoi_tiles import get_list_of_tiles_in_spain\n",
    "\n",
    "workflow(execution_mode=ExecutionMode.LAND_COVER_PREDICTION, tiles_to_predict=get_list_of_tiles_in_spain())"
   ]
  }
 ],
 "metadata": {
  "kernelspec": {
   "display_name": "Python 3.10.6 64-bit",
   "language": "python",
   "name": "python3"
  },
  "language_info": {
   "codemirror_mode": {
    "name": "ipython",
    "version": 3
   },
   "file_extension": ".py",
   "mimetype": "text/x-python",
   "name": "python",
   "nbconvert_exporter": "python",
   "pygments_lexer": "ipython3",
   "version": "3.10.6"
  },
  "orig_nbformat": 4,
  "vscode": {
   "interpreter": {
    "hash": "767d51c1340bd893661ea55ea3124f6de3c7a262a8b4abca0554b478b1e2ff90"
   }
  }
 },
 "nbformat": 4,
 "nbformat_minor": 2
}
