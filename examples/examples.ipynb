{
 "cells": [
  {
   "cell_type": "markdown",
   "metadata": {},
   "source": [
    "# Land cover of Spain example (local mode)\n",
    "\n",
    "### Generate training dataset using validated data located at `DB_DIR` environment variable"
   ]
  },
  {
   "cell_type": "code",
   "execution_count": 1,
   "metadata": {},
   "outputs": [
    {
     "name": "stdout",
     "output_type": "stream",
     "text": [
      "⚙️ Loading settings from dotenv @ /mnt/home/am/etc-scripts/examples/.env\n",
      "Working with database /mnt/home/am/etc-scripts/databases/points/mfe_spain_water_100ha_centr_VALIDADO.geojson\n",
      "Working with database /mnt/home/am/etc-scripts/databases/points/mfe_spain_grass_0Mat_500ha_centr_VALIDADO.geojson\n",
      "Working with database /mnt/home/am/etc-scripts/databases/points/mfe_spain_beaches_25ha_centr_VALIDADO.geojson\n",
      "Querying relevant tiles for 433 features\n",
      "Querying relevant tiles for 439 features\n",
      "Querying relevant tiles for 126 features\n",
      "Creating dataset from tiles\n",
      "Working in tile 29SPB\n"
     ]
    },
    {
     "ename": "KeyboardInterrupt",
     "evalue": "",
     "output_type": "error",
     "traceback": [
      "\u001b[0;31m---------------------------------------------------------------------------\u001b[0m",
      "\u001b[0;31mKeyboardInterrupt\u001b[0m                         Traceback (most recent call last)",
      "Cell \u001b[0;32mIn [1], line 3\u001b[0m\n\u001b[1;32m      1\u001b[0m \u001b[38;5;28;01mfrom\u001b[39;00m \u001b[38;5;21;01metc_workflow\u001b[39;00m\u001b[38;5;21;01m.\u001b[39;00m\u001b[38;5;21;01mexecution_mode\u001b[39;00m \u001b[38;5;28;01mimport\u001b[39;00m ExecutionMode\n\u001b[1;32m      2\u001b[0m \u001b[38;5;28;01mfrom\u001b[39;00m \u001b[38;5;21;01metc_workflow\u001b[39;00m\u001b[38;5;21;01m.\u001b[39;00m\u001b[38;5;21;01mworkflow\u001b[39;00m \u001b[38;5;28;01mimport\u001b[39;00m workflow\n\u001b[0;32m----> 3\u001b[0m workflow(execution_mode\u001b[38;5;241m=\u001b[39mExecutionMode\u001b[38;5;241m.\u001b[39mTRAINING)\n",
      "File \u001b[0;32m~/etc-venv/lib/python3.10/site-packages/etc_workflow/workflow.py:120\u001b[0m, in \u001b[0;36mworkflow\u001b[0;34m(execution_mode, client, tiles_to_predict)\u001b[0m\n\u001b[1;32m    118\u001b[0m \u001b[39mfor\u001b[39;00m tile \u001b[39min\u001b[39;00m tiles:\n\u001b[1;32m    119\u001b[0m     \u001b[39mtry\u001b[39;00m:\n\u001b[0;32m--> 120\u001b[0m         _process_tile(tile, execution_mode, polygons_per_tile[tile], used_columns)\n\u001b[1;32m    121\u001b[0m     \u001b[39mexcept\u001b[39;00m EtcWorkflowException \u001b[39mas\u001b[39;00m e:\n\u001b[1;32m    122\u001b[0m         \u001b[39mprint\u001b[39m(e)\n",
      "File \u001b[0;32m~/etc-venv/lib/python3.10/site-packages/etc_workflow/workflow.py:256\u001b[0m, in \u001b[0;36m_process_tile\u001b[0;34m(tile, execution_mode, polygons_in_tile, used_columns)\u001b[0m\n\u001b[1;32m    252\u001b[0m \u001b[39mfor\u001b[39;00m dem_name \u001b[39min\u001b[39;00m dems_raster_names:\n\u001b[1;32m    253\u001b[0m     \u001b[39m# Add dem and aspect data\u001b[39;00m\n\u001b[1;32m    254\u001b[0m     \u001b[39mif\u001b[39;00m (\u001b[39mnot\u001b[39;00m predict) \u001b[39mor\u001b[39;00m (predict \u001b[39mand\u001b[39;00m dem_name \u001b[39min\u001b[39;00m used_columns):\n\u001b[0;32m--> 256\u001b[0m         dem_path \u001b[39m=\u001b[39m get_dem_from_tile(\n\u001b[1;32m    257\u001b[0m             execution_mode, tile, mongo_products_collection, minio_client, dem_name\n\u001b[1;32m    258\u001b[0m         )\n\u001b[1;32m    260\u001b[0m         \u001b[39m# Predict doesnt work yet in some specific tiles where tile is not fully contained in aster rasters\u001b[39;00m\n\u001b[1;32m    261\u001b[0m         kwargs \u001b[39m=\u001b[39m _get_kwargs_raster(dem_path)\n",
      "File \u001b[0;32m~/etc-venv/lib/python3.10/site-packages/etc_workflow/aster.py:169\u001b[0m, in \u001b[0;36mget_dem_from_tile\u001b[0;34m(execution_mode, tile, mongo_collection, minio_client, dem_name)\u001b[0m\n\u001b[1;32m    164\u001b[0m \u001b[39m\"\"\"\u001b[39;00m\n\u001b[1;32m    165\u001b[0m \u001b[39mCreate both aspect and slope rasters merging aster products and proyecting them to sentinel rasters.\u001b[39;00m\n\u001b[1;32m    166\u001b[0m \u001b[39m\"\"\"\u001b[39;00m\n\u001b[1;32m    167\u001b[0m bucket \u001b[39m=\u001b[39m _get_bucket_by_name(dem_name)\n\u001b[0;32m--> 169\u001b[0m sample_band_path \u001b[39m=\u001b[39m _download_sample_band_by_tile(tile, minio_client, mongo_collection)\n\u001b[1;32m    171\u001b[0m (\n\u001b[1;32m    172\u001b[0m     top_left,\n\u001b[1;32m    173\u001b[0m     top_right,\n\u001b[1;32m    174\u001b[0m     bottom_left,\n\u001b[1;32m    175\u001b[0m     bottom_right,\n\u001b[1;32m    176\u001b[0m ) \u001b[39m=\u001b[39m _get_corners_raster(sample_band_path)\n\u001b[1;32m    178\u001b[0m left_bound \u001b[39m=\u001b[39m _get_bound(bottom_left, top_left)\n",
      "File \u001b[0;32m~/etc-venv/lib/python3.10/site-packages/etc_workflow/utilities/raster.py:193\u001b[0m, in \u001b[0;36m_download_sample_band_by_tile\u001b[0;34m(tile, minio_client, mongo_collection)\u001b[0m\n\u001b[1;32m    191\u001b[0m product_metadata \u001b[39m=\u001b[39m mongo_collection\u001b[39m.\u001b[39mfind_one({\u001b[39m\"\u001b[39m\u001b[39mtitle\u001b[39m\u001b[39m\"\u001b[39m: {\u001b[39m\"\u001b[39m\u001b[39m$regex\u001b[39m\u001b[39m\"\u001b[39m: \u001b[39mf\u001b[39m\u001b[39m\"\u001b[39m\u001b[39m_T\u001b[39m\u001b[39m{\u001b[39;00mtile\u001b[39m}\u001b[39;00m\u001b[39m_\u001b[39m\u001b[39m\"\u001b[39m}})\n\u001b[1;32m    192\u001b[0m product_title \u001b[39m=\u001b[39m product_metadata[\u001b[39m\"\u001b[39m\u001b[39mtitle\u001b[39m\u001b[39m\"\u001b[39m]\n\u001b[0;32m--> 193\u001b[0m sample_band_path \u001b[39m=\u001b[39m _download_sample_band_by_title(product_title, minio_client, mongo_collection)\n\u001b[1;32m    194\u001b[0m \u001b[39mreturn\u001b[39;00m sample_band_path\n",
      "File \u001b[0;32m~/etc-venv/lib/python3.10/site-packages/etc_workflow/utilities/raster.py:214\u001b[0m, in \u001b[0;36m_download_sample_band_by_title\u001b[0;34m(title, minio_client, mongo_collection)\u001b[0m\n\u001b[1;32m    210\u001b[0m \u001b[39mfor\u001b[39;00m sample_band_path_minio \u001b[39min\u001b[39;00m sample_band_paths_minio:\n\u001b[1;32m    211\u001b[0m     sample_band_path \u001b[39m=\u001b[39m \u001b[39mstr\u001b[39m(\n\u001b[1;32m    212\u001b[0m         Path(product_path, _get_raster_filename_from_path(sample_band_path_minio))\n\u001b[1;32m    213\u001b[0m     )\n\u001b[0;32m--> 214\u001b[0m     minio_client\u001b[39m.\u001b[39;49mfget_object(minio_bucket_product, sample_band_path_minio, \u001b[39mstr\u001b[39;49m(sample_band_path))\n\u001b[1;32m    215\u001b[0m     \u001b[39mif\u001b[39;00m _get_spatial_resolution_raster(sample_band_path) \u001b[39m==\u001b[39m \u001b[39m10\u001b[39m:\n\u001b[1;32m    216\u001b[0m         \u001b[39mreturn\u001b[39;00m sample_band_path\n",
      "File \u001b[0;32m~/etc-venv/lib/python3.10/site-packages/etc_workflow/minio.py:33\u001b[0m, in \u001b[0;36mretry.<locals>._safe_minio_execute.<locals>._wrapper_safe_minio_execute\u001b[0;34m(*args, **kwargs)\u001b[0m\n\u001b[1;32m     29\u001b[0m signal\u001b[39m.\u001b[39malarm(\n\u001b[1;32m     30\u001b[0m     \u001b[39m250\u001b[39m\n\u001b[1;32m     31\u001b[0m )\n\u001b[1;32m     32\u001b[0m \u001b[39mtry\u001b[39;00m:\n\u001b[0;32m---> 33\u001b[0m     f \u001b[39m=\u001b[39m  func(\u001b[39m*\u001b[39;49margs, \u001b[39m*\u001b[39;49m\u001b[39m*\u001b[39;49mkwargs)\n\u001b[1;32m     34\u001b[0m \u001b[39mexcept\u001b[39;00m (RuntimeMinioException, MinioException, HTTPError) \u001b[39mas\u001b[39;00m e:\n\u001b[1;32m     35\u001b[0m     \u001b[39mprint\u001b[39m(\u001b[39mf\u001b[39m\u001b[39m\"\u001b[39m\u001b[39mMinIO-related error. Retrying in one minute. Trace:\u001b[39m\u001b[39m\\n\u001b[39;00m\u001b[39m{\u001b[39;00me\u001b[39m}\u001b[39;00m\u001b[39m\"\u001b[39m)\n",
      "File \u001b[0;32m~/etc-venv/lib/python3.10/site-packages/etc_workflow/minio.py:58\u001b[0m, in \u001b[0;36mMinioConnection.fget_object\u001b[0;34m(self, *args, **kwargs)\u001b[0m\n\u001b[1;32m     55\u001b[0m \u001b[39m@retry\u001b[39m(n_retries\u001b[39m=\u001b[39m\u001b[39m100\u001b[39m, delay\u001b[39m=\u001b[39m\u001b[39m60\u001b[39m)\n\u001b[1;32m     56\u001b[0m \u001b[39mdef\u001b[39;00m \u001b[39mfget_object\u001b[39m(\u001b[39mself\u001b[39m, \u001b[39m*\u001b[39margs, \u001b[39m*\u001b[39m\u001b[39m*\u001b[39mkwargs):\n\u001b[1;32m     57\u001b[0m     \u001b[39m\"\u001b[39m\u001b[39mHandled version of the fget_object Minio\u001b[39m\u001b[39m'\u001b[39m\u001b[39ms method\u001b[39m\u001b[39m\"\u001b[39m\n\u001b[0;32m---> 58\u001b[0m     \u001b[39msuper\u001b[39;49m()\u001b[39m.\u001b[39;49mfget_object(\u001b[39m*\u001b[39;49margs, \u001b[39m*\u001b[39;49m\u001b[39m*\u001b[39;49mkwargs)\n",
      "File \u001b[0;32m~/etc-venv/lib/python3.10/site-packages/minio/api.py:1053\u001b[0m, in \u001b[0;36mMinio.fget_object\u001b[0;34m(self, bucket_name, object_name, file_path, request_headers, ssec, version_id, extra_query_params, tmp_file_path)\u001b[0m\n\u001b[1;32m   1051\u001b[0m response \u001b[39m=\u001b[39m \u001b[39mNone\u001b[39;00m\n\u001b[1;32m   1052\u001b[0m \u001b[39mtry\u001b[39;00m:\n\u001b[0;32m-> 1053\u001b[0m     response \u001b[39m=\u001b[39m \u001b[39mself\u001b[39;49m\u001b[39m.\u001b[39;49mget_object(\n\u001b[1;32m   1054\u001b[0m         bucket_name,\n\u001b[1;32m   1055\u001b[0m         object_name,\n\u001b[1;32m   1056\u001b[0m         request_headers\u001b[39m=\u001b[39;49mrequest_headers,\n\u001b[1;32m   1057\u001b[0m         ssec\u001b[39m=\u001b[39;49mssec,\n\u001b[1;32m   1058\u001b[0m         version_id\u001b[39m=\u001b[39;49mversion_id,\n\u001b[1;32m   1059\u001b[0m         extra_query_params\u001b[39m=\u001b[39;49mextra_query_params,\n\u001b[1;32m   1060\u001b[0m     )\n\u001b[1;32m   1061\u001b[0m     \u001b[39mwith\u001b[39;00m \u001b[39mopen\u001b[39m(tmp_file_path, \u001b[39m\"\u001b[39m\u001b[39mwb\u001b[39m\u001b[39m\"\u001b[39m) \u001b[39mas\u001b[39;00m tmp_file:\n\u001b[1;32m   1062\u001b[0m         \u001b[39mfor\u001b[39;00m data \u001b[39min\u001b[39;00m response\u001b[39m.\u001b[39mstream(amt\u001b[39m=\u001b[39m\u001b[39m1024\u001b[39m\u001b[39m*\u001b[39m\u001b[39m1024\u001b[39m):\n",
      "File \u001b[0;32m~/etc-venv/lib/python3.10/site-packages/minio/api.py:1148\u001b[0m, in \u001b[0;36mMinio.get_object\u001b[0;34m(self, bucket_name, object_name, offset, length, request_headers, ssec, version_id, extra_query_params)\u001b[0m\n\u001b[1;32m   1145\u001b[0m     extra_query_params \u001b[39m=\u001b[39m extra_query_params \u001b[39mor\u001b[39;00m {}\n\u001b[1;32m   1146\u001b[0m     extra_query_params[\u001b[39m\"\u001b[39m\u001b[39mversionId\u001b[39m\u001b[39m\"\u001b[39m] \u001b[39m=\u001b[39m version_id\n\u001b[0;32m-> 1148\u001b[0m \u001b[39mreturn\u001b[39;00m \u001b[39mself\u001b[39;49m\u001b[39m.\u001b[39;49m_execute(\n\u001b[1;32m   1149\u001b[0m     \u001b[39m\"\u001b[39;49m\u001b[39mGET\u001b[39;49m\u001b[39m\"\u001b[39;49m,\n\u001b[1;32m   1150\u001b[0m     bucket_name,\n\u001b[1;32m   1151\u001b[0m     object_name,\n\u001b[1;32m   1152\u001b[0m     headers\u001b[39m=\u001b[39;49mheaders,\n\u001b[1;32m   1153\u001b[0m     query_params\u001b[39m=\u001b[39;49mextra_query_params,\n\u001b[1;32m   1154\u001b[0m     preload_content\u001b[39m=\u001b[39;49m\u001b[39mFalse\u001b[39;49;00m,\n\u001b[1;32m   1155\u001b[0m )\n",
      "File \u001b[0;32m~/etc-venv/lib/python3.10/site-packages/minio/api.py:403\u001b[0m, in \u001b[0;36mMinio._execute\u001b[0;34m(self, method, bucket_name, object_name, body, headers, query_params, preload_content, no_body_trace)\u001b[0m\n\u001b[1;32m    400\u001b[0m region \u001b[39m=\u001b[39m \u001b[39mself\u001b[39m\u001b[39m.\u001b[39m_get_region(bucket_name, \u001b[39mNone\u001b[39;00m)\n\u001b[1;32m    402\u001b[0m \u001b[39mtry\u001b[39;00m:\n\u001b[0;32m--> 403\u001b[0m     \u001b[39mreturn\u001b[39;00m \u001b[39mself\u001b[39;49m\u001b[39m.\u001b[39;49m_url_open(\n\u001b[1;32m    404\u001b[0m         method,\n\u001b[1;32m    405\u001b[0m         region,\n\u001b[1;32m    406\u001b[0m         bucket_name\u001b[39m=\u001b[39;49mbucket_name,\n\u001b[1;32m    407\u001b[0m         object_name\u001b[39m=\u001b[39;49mobject_name,\n\u001b[1;32m    408\u001b[0m         body\u001b[39m=\u001b[39;49mbody,\n\u001b[1;32m    409\u001b[0m         headers\u001b[39m=\u001b[39;49mheaders,\n\u001b[1;32m    410\u001b[0m         query_params\u001b[39m=\u001b[39;49mquery_params,\n\u001b[1;32m    411\u001b[0m         preload_content\u001b[39m=\u001b[39;49mpreload_content,\n\u001b[1;32m    412\u001b[0m         no_body_trace\u001b[39m=\u001b[39;49mno_body_trace,\n\u001b[1;32m    413\u001b[0m     )\n\u001b[1;32m    414\u001b[0m \u001b[39mexcept\u001b[39;00m S3Error \u001b[39mas\u001b[39;00m exc:\n\u001b[1;32m    415\u001b[0m     \u001b[39mif\u001b[39;00m exc\u001b[39m.\u001b[39mcode \u001b[39m!=\u001b[39m \u001b[39m\"\u001b[39m\u001b[39mRetryHead\u001b[39m\u001b[39m\"\u001b[39m:\n",
      "File \u001b[0;32m~/etc-venv/lib/python3.10/site-packages/minio/api.py:266\u001b[0m, in \u001b[0;36mMinio._url_open\u001b[0;34m(self, method, region, bucket_name, object_name, body, headers, query_params, preload_content, no_body_trace)\u001b[0m\n\u001b[1;32m    263\u001b[0m     \u001b[39melse\u001b[39;00m:\n\u001b[1;32m    264\u001b[0m         http_headers\u001b[39m.\u001b[39madd(key, value)\n\u001b[0;32m--> 266\u001b[0m response \u001b[39m=\u001b[39m \u001b[39mself\u001b[39;49m\u001b[39m.\u001b[39;49m_http\u001b[39m.\u001b[39;49murlopen(\n\u001b[1;32m    267\u001b[0m     method,\n\u001b[1;32m    268\u001b[0m     urlunsplit(url),\n\u001b[1;32m    269\u001b[0m     body\u001b[39m=\u001b[39;49mbody,\n\u001b[1;32m    270\u001b[0m     headers\u001b[39m=\u001b[39;49mhttp_headers,\n\u001b[1;32m    271\u001b[0m     preload_content\u001b[39m=\u001b[39;49mpreload_content,\n\u001b[1;32m    272\u001b[0m )\n\u001b[1;32m    274\u001b[0m \u001b[39mif\u001b[39;00m \u001b[39mself\u001b[39m\u001b[39m.\u001b[39m_trace_stream:\n\u001b[1;32m    275\u001b[0m     \u001b[39mself\u001b[39m\u001b[39m.\u001b[39m_trace_stream\u001b[39m.\u001b[39mwrite(\u001b[39mf\u001b[39m\u001b[39m\"\u001b[39m\u001b[39mHTTP/1.1 \u001b[39m\u001b[39m{\u001b[39;00mresponse\u001b[39m.\u001b[39mstatus\u001b[39m}\u001b[39;00m\u001b[39m\\n\u001b[39;00m\u001b[39m\"\u001b[39m)\n",
      "File \u001b[0;32m~/etc-venv/lib/python3.10/site-packages/urllib3/poolmanager.py:376\u001b[0m, in \u001b[0;36mPoolManager.urlopen\u001b[0;34m(self, method, url, redirect, **kw)\u001b[0m\n\u001b[1;32m    374\u001b[0m     response \u001b[39m=\u001b[39m conn\u001b[39m.\u001b[39murlopen(method, url, \u001b[39m*\u001b[39m\u001b[39m*\u001b[39mkw)\n\u001b[1;32m    375\u001b[0m \u001b[39melse\u001b[39;00m:\n\u001b[0;32m--> 376\u001b[0m     response \u001b[39m=\u001b[39m conn\u001b[39m.\u001b[39;49murlopen(method, u\u001b[39m.\u001b[39;49mrequest_uri, \u001b[39m*\u001b[39;49m\u001b[39m*\u001b[39;49mkw)\n\u001b[1;32m    378\u001b[0m redirect_location \u001b[39m=\u001b[39m redirect \u001b[39mand\u001b[39;00m response\u001b[39m.\u001b[39mget_redirect_location()\n\u001b[1;32m    379\u001b[0m \u001b[39mif\u001b[39;00m \u001b[39mnot\u001b[39;00m redirect_location:\n",
      "File \u001b[0;32m~/etc-venv/lib/python3.10/site-packages/urllib3/connectionpool.py:703\u001b[0m, in \u001b[0;36mHTTPConnectionPool.urlopen\u001b[0;34m(self, method, url, body, headers, retries, redirect, assert_same_host, timeout, pool_timeout, release_conn, chunked, body_pos, **response_kw)\u001b[0m\n\u001b[1;32m    700\u001b[0m     \u001b[39mself\u001b[39m\u001b[39m.\u001b[39m_prepare_proxy(conn)\n\u001b[1;32m    702\u001b[0m \u001b[39m# Make the request on the httplib connection object.\u001b[39;00m\n\u001b[0;32m--> 703\u001b[0m httplib_response \u001b[39m=\u001b[39m \u001b[39mself\u001b[39;49m\u001b[39m.\u001b[39;49m_make_request(\n\u001b[1;32m    704\u001b[0m     conn,\n\u001b[1;32m    705\u001b[0m     method,\n\u001b[1;32m    706\u001b[0m     url,\n\u001b[1;32m    707\u001b[0m     timeout\u001b[39m=\u001b[39;49mtimeout_obj,\n\u001b[1;32m    708\u001b[0m     body\u001b[39m=\u001b[39;49mbody,\n\u001b[1;32m    709\u001b[0m     headers\u001b[39m=\u001b[39;49mheaders,\n\u001b[1;32m    710\u001b[0m     chunked\u001b[39m=\u001b[39;49mchunked,\n\u001b[1;32m    711\u001b[0m )\n\u001b[1;32m    713\u001b[0m \u001b[39m# If we're going to release the connection in ``finally:``, then\u001b[39;00m\n\u001b[1;32m    714\u001b[0m \u001b[39m# the response doesn't need to know about the connection. Otherwise\u001b[39;00m\n\u001b[1;32m    715\u001b[0m \u001b[39m# it will also try to release it and we'll have a double-release\u001b[39;00m\n\u001b[1;32m    716\u001b[0m \u001b[39m# mess.\u001b[39;00m\n\u001b[1;32m    717\u001b[0m response_conn \u001b[39m=\u001b[39m conn \u001b[39mif\u001b[39;00m \u001b[39mnot\u001b[39;00m release_conn \u001b[39melse\u001b[39;00m \u001b[39mNone\u001b[39;00m\n",
      "File \u001b[0;32m~/etc-venv/lib/python3.10/site-packages/urllib3/connectionpool.py:449\u001b[0m, in \u001b[0;36mHTTPConnectionPool._make_request\u001b[0;34m(self, conn, method, url, timeout, chunked, **httplib_request_kw)\u001b[0m\n\u001b[1;32m    444\u001b[0m             httplib_response \u001b[39m=\u001b[39m conn\u001b[39m.\u001b[39mgetresponse()\n\u001b[1;32m    445\u001b[0m         \u001b[39mexcept\u001b[39;00m \u001b[39mBaseException\u001b[39;00m \u001b[39mas\u001b[39;00m e:\n\u001b[1;32m    446\u001b[0m             \u001b[39m# Remove the TypeError from the exception chain in\u001b[39;00m\n\u001b[1;32m    447\u001b[0m             \u001b[39m# Python 3 (including for exceptions like SystemExit).\u001b[39;00m\n\u001b[1;32m    448\u001b[0m             \u001b[39m# Otherwise it looks like a bug in the code.\u001b[39;00m\n\u001b[0;32m--> 449\u001b[0m             six\u001b[39m.\u001b[39;49mraise_from(e, \u001b[39mNone\u001b[39;49;00m)\n\u001b[1;32m    450\u001b[0m \u001b[39mexcept\u001b[39;00m (SocketTimeout, BaseSSLError, SocketError) \u001b[39mas\u001b[39;00m e:\n\u001b[1;32m    451\u001b[0m     \u001b[39mself\u001b[39m\u001b[39m.\u001b[39m_raise_timeout(err\u001b[39m=\u001b[39me, url\u001b[39m=\u001b[39murl, timeout_value\u001b[39m=\u001b[39mread_timeout)\n",
      "File \u001b[0;32m<string>:3\u001b[0m, in \u001b[0;36mraise_from\u001b[0;34m(value, from_value)\u001b[0m\n",
      "File \u001b[0;32m~/etc-venv/lib/python3.10/site-packages/urllib3/connectionpool.py:444\u001b[0m, in \u001b[0;36mHTTPConnectionPool._make_request\u001b[0;34m(self, conn, method, url, timeout, chunked, **httplib_request_kw)\u001b[0m\n\u001b[1;32m    441\u001b[0m \u001b[39mexcept\u001b[39;00m \u001b[39mTypeError\u001b[39;00m:\n\u001b[1;32m    442\u001b[0m     \u001b[39m# Python 3\u001b[39;00m\n\u001b[1;32m    443\u001b[0m     \u001b[39mtry\u001b[39;00m:\n\u001b[0;32m--> 444\u001b[0m         httplib_response \u001b[39m=\u001b[39m conn\u001b[39m.\u001b[39;49mgetresponse()\n\u001b[1;32m    445\u001b[0m     \u001b[39mexcept\u001b[39;00m \u001b[39mBaseException\u001b[39;00m \u001b[39mas\u001b[39;00m e:\n\u001b[1;32m    446\u001b[0m         \u001b[39m# Remove the TypeError from the exception chain in\u001b[39;00m\n\u001b[1;32m    447\u001b[0m         \u001b[39m# Python 3 (including for exceptions like SystemExit).\u001b[39;00m\n\u001b[1;32m    448\u001b[0m         \u001b[39m# Otherwise it looks like a bug in the code.\u001b[39;00m\n\u001b[1;32m    449\u001b[0m         six\u001b[39m.\u001b[39mraise_from(e, \u001b[39mNone\u001b[39;00m)\n",
      "File \u001b[0;32m/usr/lib/python3.10/http/client.py:1374\u001b[0m, in \u001b[0;36mHTTPConnection.getresponse\u001b[0;34m(self)\u001b[0m\n\u001b[1;32m   1372\u001b[0m \u001b[39mtry\u001b[39;00m:\n\u001b[1;32m   1373\u001b[0m     \u001b[39mtry\u001b[39;00m:\n\u001b[0;32m-> 1374\u001b[0m         response\u001b[39m.\u001b[39;49mbegin()\n\u001b[1;32m   1375\u001b[0m     \u001b[39mexcept\u001b[39;00m \u001b[39mConnectionError\u001b[39;00m:\n\u001b[1;32m   1376\u001b[0m         \u001b[39mself\u001b[39m\u001b[39m.\u001b[39mclose()\n",
      "File \u001b[0;32m/usr/lib/python3.10/http/client.py:318\u001b[0m, in \u001b[0;36mHTTPResponse.begin\u001b[0;34m(self)\u001b[0m\n\u001b[1;32m    316\u001b[0m \u001b[39m# read until we get a non-100 response\u001b[39;00m\n\u001b[1;32m    317\u001b[0m \u001b[39mwhile\u001b[39;00m \u001b[39mTrue\u001b[39;00m:\n\u001b[0;32m--> 318\u001b[0m     version, status, reason \u001b[39m=\u001b[39m \u001b[39mself\u001b[39;49m\u001b[39m.\u001b[39;49m_read_status()\n\u001b[1;32m    319\u001b[0m     \u001b[39mif\u001b[39;00m status \u001b[39m!=\u001b[39m CONTINUE:\n\u001b[1;32m    320\u001b[0m         \u001b[39mbreak\u001b[39;00m\n",
      "File \u001b[0;32m/usr/lib/python3.10/http/client.py:279\u001b[0m, in \u001b[0;36mHTTPResponse._read_status\u001b[0;34m(self)\u001b[0m\n\u001b[1;32m    278\u001b[0m \u001b[39mdef\u001b[39;00m \u001b[39m_read_status\u001b[39m(\u001b[39mself\u001b[39m):\n\u001b[0;32m--> 279\u001b[0m     line \u001b[39m=\u001b[39m \u001b[39mstr\u001b[39m(\u001b[39mself\u001b[39;49m\u001b[39m.\u001b[39;49mfp\u001b[39m.\u001b[39;49mreadline(_MAXLINE \u001b[39m+\u001b[39;49m \u001b[39m1\u001b[39;49m), \u001b[39m\"\u001b[39m\u001b[39miso-8859-1\u001b[39m\u001b[39m\"\u001b[39m)\n\u001b[1;32m    280\u001b[0m     \u001b[39mif\u001b[39;00m \u001b[39mlen\u001b[39m(line) \u001b[39m>\u001b[39m _MAXLINE:\n\u001b[1;32m    281\u001b[0m         \u001b[39mraise\u001b[39;00m LineTooLong(\u001b[39m\"\u001b[39m\u001b[39mstatus line\u001b[39m\u001b[39m\"\u001b[39m)\n",
      "File \u001b[0;32m/usr/lib/python3.10/socket.py:705\u001b[0m, in \u001b[0;36mSocketIO.readinto\u001b[0;34m(self, b)\u001b[0m\n\u001b[1;32m    703\u001b[0m \u001b[39mwhile\u001b[39;00m \u001b[39mTrue\u001b[39;00m:\n\u001b[1;32m    704\u001b[0m     \u001b[39mtry\u001b[39;00m:\n\u001b[0;32m--> 705\u001b[0m         \u001b[39mreturn\u001b[39;00m \u001b[39mself\u001b[39;49m\u001b[39m.\u001b[39;49m_sock\u001b[39m.\u001b[39;49mrecv_into(b)\n\u001b[1;32m    706\u001b[0m     \u001b[39mexcept\u001b[39;00m timeout:\n\u001b[1;32m    707\u001b[0m         \u001b[39mself\u001b[39m\u001b[39m.\u001b[39m_timeout_occurred \u001b[39m=\u001b[39m \u001b[39mTrue\u001b[39;00m\n",
      "\u001b[0;31mKeyboardInterrupt\u001b[0m: "
     ]
    },
    {
     "ename": "",
     "evalue": "",
     "output_type": "error",
     "traceback": [
      "\u001b[1;31mEl Kernel se bloqueó al ejecutar código en la celda actual o en una celda anterior. Revise el código de las celdas para identificar una posible causa del error. Haga clic <a href='https://aka.ms/vscodeJupyterKernelCrash'>aquí</a> para obtener más información. Vea el [registro] de Jupyter (command:jupyter.viewOutput) para obtener más detalles."
     ]
    }
   ],
   "source": [
    "from etc_workflow.execution_mode import ExecutionMode\n",
    "from etc_workflow.workflow import workflow\n",
    "workflow(execution_mode=ExecutionMode.TRAINING)"
   ]
  },
  {
   "cell_type": "markdown",
   "metadata": {},
   "source": [
    "### Postprocess generated dataset, called `dataset.csv` (which has been generated in MinIO)"
   ]
  },
  {
   "cell_type": "code",
   "execution_count": null,
   "metadata": {},
   "outputs": [],
   "source": [
    "from etc_workflow.data_postprocessing import postprocess_dataset\n",
    "\n",
    "input_dataset = \"dataset.csv\"\n",
    "land_cover_dataset = \"dataset_postprocessed.csv\"\n",
    "\n",
    "postprocess_dataset(input_dataset, land_cover_dataset)"
   ]
  },
  {
   "cell_type": "markdown",
   "metadata": {},
   "source": [
    "### Train model using postprocessed dataset"
   ]
  },
  {
   "cell_type": "code",
   "execution_count": null,
   "metadata": {},
   "outputs": [],
   "source": [
    "from etc_workflow.model_training import train_model_land_cover\n",
    "\n",
    "train_model_land_cover(land_cover_dataset, n_jobs = 1)"
   ]
  },
  {
   "cell_type": "markdown",
   "metadata": {},
   "source": [
    "### Get the tiles in Spain and classify them using the trained model"
   ]
  },
  {
   "cell_type": "code",
   "execution_count": null,
   "metadata": {},
   "outputs": [],
   "source": [
    "from etc_workflow.utilities.aoi_tiles import get_list_of_tiles_in_spain\n",
    "\n",
    "workflow(execution_mode=ExecutionMode.LAND_COVER_PREDICTION, tiles_to_predict=get_list_of_tiles_in_spain())"
   ]
  }
 ],
 "metadata": {
  "kernelspec": {
   "display_name": "Python 3.10.4 ('etc-venv')",
   "language": "python",
   "name": "python3"
  },
  "language_info": {
   "codemirror_mode": {
    "name": "ipython",
    "version": 3
   },
   "file_extension": ".py",
   "mimetype": "text/x-python",
   "name": "python",
   "nbconvert_exporter": "python",
   "pygments_lexer": "ipython3",
   "version": "3.10.4"
  },
  "orig_nbformat": 4,
  "vscode": {
   "interpreter": {
    "hash": "5cdd0f0f935dd7898c44984be3e716dd5e5ab3bc094fdd1fc5f58f83194bd774"
   }
  }
 },
 "nbformat": 4,
 "nbformat_minor": 2
}
