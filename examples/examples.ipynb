{
 "cells": [
  {
   "cell_type": "markdown",
   "metadata": {},
   "source": [
    "# Land cover of Spain example (local mode)\n",
    "\n",
    "### Generate training dataset using validated data located at `DB_DIR` environment variable"
   ]
  },
  {
   "cell_type": "code",
   "execution_count": null,
   "metadata": {},
   "outputs": [],
   "source": [
    "from etc_workflow.execution_mode import ExecutionMode\n",
    "from etc_workflow.workflow import workflow\n",
    "workflow(execution_mode=ExecutionMode.TRAINING)"
   ]
  },
  {
   "cell_type": "markdown",
   "metadata": {},
   "source": [
    "### Postprocess generated dataset, called `dataset.csv` (which has been generated in MinIO)"
   ]
  },
  {
   "cell_type": "code",
   "execution_count": null,
   "metadata": {},
   "outputs": [],
   "source": [
    "from etc_workflow.data_postprocessing import postprocess_dataset\n",
    "\n",
    "input_dataset = \"dataset.csv\"\n",
    "land_cover_dataset = \"dataset_postprocessed.csv\"\n",
    "\n",
    "postprocess_dataset(input_dataset, land_cover_dataset)"
   ]
  },
  {
   "cell_type": "markdown",
   "metadata": {},
   "source": [
    "### Train model using postprocessed dataset"
   ]
  },
  {
   "cell_type": "code",
   "execution_count": null,
   "metadata": {},
   "outputs": [],
   "source": [
    "from etc_workflow.model_training import train_model_land_cover\n",
    "\n",
    "train_model_land_cover(land_cover_dataset, n_jobs = 1)"
   ]
  },
  {
   "cell_type": "markdown",
   "metadata": {},
   "source": [
    "### Get the tiles in Spain and classify them using the trained model"
   ]
  },
  {
   "cell_type": "code",
   "execution_count": null,
   "metadata": {},
   "outputs": [],
   "source": [
    "from etc_workflow.utilities.aoi_tiles import get_list_of_tiles_in_spain\n",
    "\n",
    "workflow(execution_mode=ExecutionMode.LAND_COVER_PREDICTION, tiles_to_predict=get_list_of_tiles_in_spain())"
   ]
  }
 ],
 "metadata": {
  "kernelspec": {
   "display_name": "Python 3.10.4 ('etc-venv')",
   "language": "python",
   "name": "python3"
  },
  "language_info": {
   "codemirror_mode": {
    "name": "ipython",
    "version": 3
   },
   "file_extension": ".py",
   "mimetype": "text/x-python",
   "name": "python",
   "nbconvert_exporter": "python",
   "pygments_lexer": "ipython3",
   "version": "3.10.4"
  },
  "orig_nbformat": 4,
  "vscode": {
   "interpreter": {
    "hash": "5cdd0f0f935dd7898c44984be3e716dd5e5ab3bc094fdd1fc5f58f83194bd774"
   }
  }
 },
 "nbformat": 4,
 "nbformat_minor": 2
}
